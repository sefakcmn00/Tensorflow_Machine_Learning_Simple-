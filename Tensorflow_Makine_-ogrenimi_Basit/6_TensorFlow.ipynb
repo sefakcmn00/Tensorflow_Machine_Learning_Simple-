{
 "cells": [
  {
   "cell_type": "code",
   "execution_count": 14,
   "id": "841b519e",
   "metadata": {},
   "outputs": [],
   "source": [
    "from tensorflow.keras.models  import Sequential\n",
    "from tensorflow.keras.layers import Dense\n",
    "import pandas as pd\n",
    "import seaborn as sbn\n",
    "import matplotlib.pyplot as plt"
   ]
  },
  {
   "cell_type": "markdown",
   "id": "c4ab53fb",
   "metadata": {},
   "source": [
    "#  Artificial Neural Network(ANN)"
   ]
  },
  {
   "cell_type": "markdown",
   "id": "69b40630",
   "metadata": {},
   "source": [
    "Perceptron --> YAPAY NÖRON"
   ]
  },
  {
   "cell_type": "markdown",
   "id": "660dbd1f",
   "metadata": {},
   "source": [
    "Girdi1 --->\n",
    "\n",
    "                 \n",
    "               \n",
    "Girdi2 ------------->                 VERİ ----> Çıktı\n",
    "\n",
    "\n",
    "\n",
    "Bias ----->"
   ]
  },
  {
   "cell_type": "markdown",
   "id": "c32c0692",
   "metadata": {},
   "source": [
    "Sigmoid Fonksiyonu = 0 ile 1 arasında değer alır ve genelde sınıfrlandırma problemlerimizde işe yarar"
   ]
  },
  {
   "cell_type": "markdown",
   "id": "0f97c152",
   "metadata": {},
   "source": [
    "Tanh(Hiperbolik Tanjant) = -1 ve 1 arasında değer alır  ve negatif değerlerle daha geniş bir kapsam sağlar ve genelde sınfırlandırma operasyonlarıda kullanılır."
   ]
  },
  {
   "cell_type": "markdown",
   "id": "5d6696bd",
   "metadata": {},
   "source": [
    "ReLU(Rectified Linear Unit) = 0 ve sonuz arasında değer alır ve derin öğrenme alanında sıklıkla karşımızda çıkar.\n",
    "Verilen işlem - ise =0 eğer değilse verilen değilse -1 değerini alır."
   ]
  },
  {
   "cell_type": "markdown",
   "id": "e54c1dc4",
   "metadata": {},
   "source": [
    "Linear Fonksiyonlar f(x)= x alır sonuz değer alabilir. "
   ]
  },
  {
   "cell_type": "markdown",
   "id": "ec84de9a",
   "metadata": {},
   "source": [
    "Regresyon = Çocuklaın boyları ile babaların boyları arasında bir iliki olabilir mi ?\n",
    "Çocukların boyları toplam veri setindeki ortalamaya yakın olma  eğilimi gösterilebilir.\n",
    "Y=a*x + b "
   ]
  },
  {
   "cell_type": "markdown",
   "id": "5494c3d6",
   "metadata": {},
   "source": [
    "z=a*g +b \n",
    "f(z)=tahminiDeger(nöron'un tahmini)\n",
    "Quadratic Maliyet=sum(gercekDeger - tamini deger)**2/\n",
    "Cross Entropy Maliyet=(-1/n)*sum(gercekDeger*In(tahminiDeger)(1-gercekDeger)*ln(1-taminiDeger)"
   ]
  },
  {
   "cell_type": "markdown",
   "id": "ceac0f0f",
   "metadata": {},
   "source": [
    "Gradient Descent = bir fonksiyonun minimumu bulmak için kullanıdığımız optimizasyon fonksiyonu\n",
    "Maliyet fonksiyonunu minimize etmek için kullanabiliriz."
   ]
  },
  {
   "cell_type": "code",
   "execution_count": 11,
   "id": "7a3b4563",
   "metadata": {},
   "outputs": [],
   "source": [
    "dataFramenew=pd.read_excel(\"bisiklet_fiyatlari.xlsx\")"
   ]
  },
  {
   "cell_type": "code",
   "execution_count": 12,
   "id": "3022f8e4",
   "metadata": {},
   "outputs": [
    {
     "data": {
      "text/html": [
       "<div>\n",
       "<style scoped>\n",
       "    .dataframe tbody tr th:only-of-type {\n",
       "        vertical-align: middle;\n",
       "    }\n",
       "\n",
       "    .dataframe tbody tr th {\n",
       "        vertical-align: top;\n",
       "    }\n",
       "\n",
       "    .dataframe thead th {\n",
       "        text-align: right;\n",
       "    }\n",
       "</style>\n",
       "<table border=\"1\" class=\"dataframe\">\n",
       "  <thead>\n",
       "    <tr style=\"text-align: right;\">\n",
       "      <th></th>\n",
       "      <th>Fiyat</th>\n",
       "      <th>BisikletOzellik1</th>\n",
       "      <th>BisikletOzellik2</th>\n",
       "    </tr>\n",
       "  </thead>\n",
       "  <tbody>\n",
       "    <tr>\n",
       "      <th>0</th>\n",
       "      <td>807.673876</td>\n",
       "      <td>1749.628226</td>\n",
       "      <td>1749.590668</td>\n",
       "    </tr>\n",
       "    <tr>\n",
       "      <th>1</th>\n",
       "      <td>959.227520</td>\n",
       "      <td>1748.007826</td>\n",
       "      <td>1751.824206</td>\n",
       "    </tr>\n",
       "    <tr>\n",
       "      <th>2</th>\n",
       "      <td>718.020033</td>\n",
       "      <td>1750.122967</td>\n",
       "      <td>1747.977026</td>\n",
       "    </tr>\n",
       "    <tr>\n",
       "      <th>3</th>\n",
       "      <td>945.668885</td>\n",
       "      <td>1749.916440</td>\n",
       "      <td>1750.771646</td>\n",
       "    </tr>\n",
       "    <tr>\n",
       "      <th>4</th>\n",
       "      <td>955.542968</td>\n",
       "      <td>1750.780519</td>\n",
       "      <td>1750.592430</td>\n",
       "    </tr>\n",
       "    <tr>\n",
       "      <th>...</th>\n",
       "      <td>...</td>\n",
       "      <td>...</td>\n",
       "      <td>...</td>\n",
       "    </tr>\n",
       "    <tr>\n",
       "      <th>995</th>\n",
       "      <td>833.920637</td>\n",
       "      <td>1750.033229</td>\n",
       "      <td>1749.427281</td>\n",
       "    </tr>\n",
       "    <tr>\n",
       "      <th>996</th>\n",
       "      <td>800.298076</td>\n",
       "      <td>1747.996913</td>\n",
       "      <td>1750.035046</td>\n",
       "    </tr>\n",
       "    <tr>\n",
       "      <th>997</th>\n",
       "      <td>799.261737</td>\n",
       "      <td>1752.540381</td>\n",
       "      <td>1747.983310</td>\n",
       "    </tr>\n",
       "    <tr>\n",
       "      <th>998</th>\n",
       "      <td>705.802257</td>\n",
       "      <td>1751.349290</td>\n",
       "      <td>1747.484989</td>\n",
       "    </tr>\n",
       "    <tr>\n",
       "      <th>999</th>\n",
       "      <td>1048.892414</td>\n",
       "      <td>1748.656426</td>\n",
       "      <td>1752.539962</td>\n",
       "    </tr>\n",
       "  </tbody>\n",
       "</table>\n",
       "<p>1000 rows × 3 columns</p>\n",
       "</div>"
      ],
      "text/plain": [
       "           Fiyat  BisikletOzellik1  BisikletOzellik2\n",
       "0     807.673876       1749.628226       1749.590668\n",
       "1     959.227520       1748.007826       1751.824206\n",
       "2     718.020033       1750.122967       1747.977026\n",
       "3     945.668885       1749.916440       1750.771646\n",
       "4     955.542968       1750.780519       1750.592430\n",
       "..           ...               ...               ...\n",
       "995   833.920637       1750.033229       1749.427281\n",
       "996   800.298076       1747.996913       1750.035046\n",
       "997   799.261737       1752.540381       1747.983310\n",
       "998   705.802257       1751.349290       1747.484989\n",
       "999  1048.892414       1748.656426       1752.539962\n",
       "\n",
       "[1000 rows x 3 columns]"
      ]
     },
     "execution_count": 12,
     "metadata": {},
     "output_type": "execute_result"
    }
   ],
   "source": [
    "dataFramenew"
   ]
  },
  {
   "cell_type": "code",
   "execution_count": 13,
   "id": "13faf378",
   "metadata": {},
   "outputs": [
    {
     "data": {
      "text/html": [
       "<div>\n",
       "<style scoped>\n",
       "    .dataframe tbody tr th:only-of-type {\n",
       "        vertical-align: middle;\n",
       "    }\n",
       "\n",
       "    .dataframe tbody tr th {\n",
       "        vertical-align: top;\n",
       "    }\n",
       "\n",
       "    .dataframe thead th {\n",
       "        text-align: right;\n",
       "    }\n",
       "</style>\n",
       "<table border=\"1\" class=\"dataframe\">\n",
       "  <thead>\n",
       "    <tr style=\"text-align: right;\">\n",
       "      <th></th>\n",
       "      <th>Fiyat</th>\n",
       "      <th>BisikletOzellik1</th>\n",
       "      <th>BisikletOzellik2</th>\n",
       "    </tr>\n",
       "  </thead>\n",
       "  <tbody>\n",
       "    <tr>\n",
       "      <th>0</th>\n",
       "      <td>807.673876</td>\n",
       "      <td>1749.628226</td>\n",
       "      <td>1749.590668</td>\n",
       "    </tr>\n",
       "    <tr>\n",
       "      <th>1</th>\n",
       "      <td>959.227520</td>\n",
       "      <td>1748.007826</td>\n",
       "      <td>1751.824206</td>\n",
       "    </tr>\n",
       "    <tr>\n",
       "      <th>2</th>\n",
       "      <td>718.020033</td>\n",
       "      <td>1750.122967</td>\n",
       "      <td>1747.977026</td>\n",
       "    </tr>\n",
       "    <tr>\n",
       "      <th>3</th>\n",
       "      <td>945.668885</td>\n",
       "      <td>1749.916440</td>\n",
       "      <td>1750.771646</td>\n",
       "    </tr>\n",
       "    <tr>\n",
       "      <th>4</th>\n",
       "      <td>955.542968</td>\n",
       "      <td>1750.780519</td>\n",
       "      <td>1750.592430</td>\n",
       "    </tr>\n",
       "  </tbody>\n",
       "</table>\n",
       "</div>"
      ],
      "text/plain": [
       "        Fiyat  BisikletOzellik1  BisikletOzellik2\n",
       "0  807.673876       1749.628226       1749.590668\n",
       "1  959.227520       1748.007826       1751.824206\n",
       "2  718.020033       1750.122967       1747.977026\n",
       "3  945.668885       1749.916440       1750.771646\n",
       "4  955.542968       1750.780519       1750.592430"
      ]
     },
     "execution_count": 13,
     "metadata": {},
     "output_type": "execute_result"
    }
   ],
   "source": [
    "dataFramenew.head()"
   ]
  },
  {
   "cell_type": "markdown",
   "id": "dd18ad57",
   "metadata": {},
   "source": [
    "###  Verileri Seaborn Grafigi"
   ]
  },
  {
   "cell_type": "code",
   "execution_count": 15,
   "id": "a42e040e",
   "metadata": {},
   "outputs": [
    {
     "data": {
      "text/plain": [
       "<seaborn.axisgrid.PairGrid at 0x20e6a189190>"
      ]
     },
     "execution_count": 15,
     "metadata": {},
     "output_type": "execute_result"
    },
    {
     "data": {
      "image/png": "[encoded data removed]",
      "text/plain": [
       "<Figure size 540x540 with 12 Axes>"
      ]
     },
     "metadata": {
      "needs_background": "light"
     },
     "output_type": "display_data"
    }
   ],
   "source": [
    "sbn.pairplot(dataFramenew)"
   ]
  },
  {
   "cell_type": "markdown",
   "id": "d3789806",
   "metadata": {},
   "source": [
    "#  Veriyi Test/Train Olarak 2'ye ayırmak"
   ]
  },
  {
   "cell_type": "code",
   "execution_count": 17,
   "id": "c6f757ec",
   "metadata": {},
   "outputs": [],
   "source": [
    "from sklearn.model_selection import train_test_split"
   ]
  },
  {
   "cell_type": "code",
   "execution_count": 28,
   "id": "1a3a0d16",
   "metadata": {},
   "outputs": [],
   "source": [
    "#y=wx +b\n",
    "#y -->label\n",
    "y=dataFramenew[\"Fiyat\"].values\n",
    "\n",
    "#x --> feature(özellik)\n",
    "x=dataFramenew[[\"BisikletOzellik1\",\"BisikletOzellik2\"]].values\n",
    "x_train,x_test,y_train,y_test=train_test_split(x,y,test_size=0.33,random_state=15)"
   ]
  },
  {
   "cell_type": "code",
   "execution_count": 31,
   "id": "51745a5c",
   "metadata": {},
   "outputs": [
    {
     "data": {
      "text/plain": [
       "(670, 2)"
      ]
     },
     "execution_count": 31,
     "metadata": {},
     "output_type": "execute_result"
    }
   ],
   "source": [
    "x_train.shape"
   ]
  },
  {
   "cell_type": "code",
   "execution_count": 32,
   "id": "6573f8a3",
   "metadata": {},
   "outputs": [
    {
     "data": {
      "text/plain": [
       "(330, 2)"
      ]
     },
     "execution_count": 32,
     "metadata": {},
     "output_type": "execute_result"
    }
   ],
   "source": [
    "x_test.shape"
   ]
  },
  {
   "cell_type": "code",
   "execution_count": 66,
   "id": "0fc09840",
   "metadata": {},
   "outputs": [
    {
     "data": {
      "text/plain": [
       "(670,)"
      ]
     },
     "execution_count": 66,
     "metadata": {},
     "output_type": "execute_result"
    }
   ],
   "source": [
    "y_train.shape"
   ]
  },
  {
   "cell_type": "code",
   "execution_count": 34,
   "id": "3a44305e",
   "metadata": {},
   "outputs": [
    {
     "data": {
      "text/plain": [
       "(330,)"
      ]
     },
     "execution_count": 34,
     "metadata": {},
     "output_type": "execute_result"
    }
   ],
   "source": [
    "y_test.shape"
   ]
  },
  {
   "cell_type": "markdown",
   "id": "834b240d",
   "metadata": {},
   "source": [
    "## Scaling(Verilerin boyutunu büyültmek veya küçültmek)"
   ]
  },
  {
   "cell_type": "code",
   "execution_count": 36,
   "id": "76f7f065",
   "metadata": {},
   "outputs": [],
   "source": [
    "from sklearn.preprocessing import MinMaxScaler"
   ]
  },
  {
   "cell_type": "code",
   "execution_count": 37,
   "id": "c460e362",
   "metadata": {},
   "outputs": [],
   "source": [
    "scaler=MinMaxScaler()"
   ]
  },
  {
   "cell_type": "code",
   "execution_count": 38,
   "id": "c7975707",
   "metadata": {},
   "outputs": [
    {
     "data": {
      "text/html": [
       "<style>#sk-container-id-1 {color: black;background-color: white;}#sk-container-id-1 pre{padding: 0;}#sk-container-id-1 div.sk-toggleable {background-color: white;}#sk-container-id-1 label.sk-toggleable__label {cursor: pointer;display: block;width: 100%;margin-bottom: 0;padding: 0.3em;box-sizing: border-box;text-align: center;}#sk-container-id-1 label.sk-toggleable__label-arrow:before {content: \"▸\";float: left;margin-right: 0.25em;color: #696969;}#sk-container-id-1 label.sk-toggleable__label-arrow:hover:before {color: black;}#sk-container-id-1 div.sk-estimator:hover label.sk-toggleable__label-arrow:before {color: black;}#sk-container-id-1 div.sk-toggleable__content {max-height: 0;max-width: 0;overflow: hidden;text-align: left;background-color: #f0f8ff;}#sk-container-id-1 div.sk-toggleable__content pre {margin: 0.2em;color: black;border-radius: 0.25em;background-color: #f0f8ff;}#sk-container-id-1 input.sk-toggleable__control:checked~div.sk-toggleable__content {max-height: 200px;max-width: 100%;overflow: auto;}#sk-container-id-1 input.sk-toggleable__control:checked~label.sk-toggleable__label-arrow:before {content: \"▾\";}#sk-container-id-1 div.sk-estimator input.sk-toggleable__control:checked~label.sk-toggleable__label {background-color: #d4ebff;}#sk-container-id-1 div.sk-label input.sk-toggleable__control:checked~label.sk-toggleable__label {background-color: #d4ebff;}#sk-container-id-1 input.sk-hidden--visually {border: 0;clip: rect(1px 1px 1px 1px);clip: rect(1px, 1px, 1px, 1px);height: 1px;margin: -1px;overflow: hidden;padding: 0;position: absolute;width: 1px;}#sk-container-id-1 div.sk-estimator {font-family: monospace;background-color: #f0f8ff;border: 1px dotted black;border-radius: 0.25em;box-sizing: border-box;margin-bottom: 0.5em;}#sk-container-id-1 div.sk-estimator:hover {background-color: #d4ebff;}#sk-container-id-1 div.sk-parallel-item::after {content: \"\";width: 100%;border-bottom: 1px solid gray;flex-grow: 1;}#sk-container-id-1 div.sk-label:hover label.sk-toggleable__label {background-color: #d4ebff;}#sk-container-id-1 div.sk-serial::before {content: \"\";position: absolute;border-left: 1px solid gray;box-sizing: border-box;top: 0;bottom: 0;left: 50%;z-index: 0;}#sk-container-id-1 div.sk-serial {display: flex;flex-direction: column;align-items: center;background-color: white;padding-right: 0.2em;padding-left: 0.2em;position: relative;}#sk-container-id-1 div.sk-item {position: relative;z-index: 1;}#sk-container-id-1 div.sk-parallel {display: flex;align-items: stretch;justify-content: center;background-color: white;position: relative;}#sk-container-id-1 div.sk-item::before, #sk-container-id-1 div.sk-parallel-item::before {content: \"\";position: absolute;border-left: 1px solid gray;box-sizing: border-box;top: 0;bottom: 0;left: 50%;z-index: -1;}#sk-container-id-1 div.sk-parallel-item {display: flex;flex-direction: column;z-index: 1;position: relative;background-color: white;}#sk-container-id-1 div.sk-parallel-item:first-child::after {align-self: flex-end;width: 50%;}#sk-container-id-1 div.sk-parallel-item:last-child::after {align-self: flex-start;width: 50%;}#sk-container-id-1 div.sk-parallel-item:only-child::after {width: 0;}#sk-container-id-1 div.sk-dashed-wrapped {border: 1px dashed gray;margin: 0 0.4em 0.5em 0.4em;box-sizing: border-box;padding-bottom: 0.4em;background-color: white;}#sk-container-id-1 div.sk-label label {font-family: monospace;font-weight: bold;display: inline-block;line-height: 1.2em;}#sk-container-id-1 div.sk-label-container {text-align: center;}#sk-container-id-1 div.sk-container {/* jupyter's `normalize.less` sets `[hidden] { display: none; }` but bootstrap.min.css set `[hidden] { display: none !important; }` so we also need the `!important` here to be able to override the default hidden behavior on the sphinx rendered scikit-learn.org. See: https://github.com/scikit-learn/scikit-learn/issues/21755 */display: inline-block !important;position: relative;}#sk-container-id-1 div.sk-text-repr-fallback {display: none;}</style><div id=\"sk-container-id-1\" class=\"sk-top-container\"><div class=\"sk-text-repr-fallback\"><pre>MinMaxScaler()</pre><b>In a Jupyter environment, please rerun this cell to show the HTML representation or trust the notebook. <br />On GitHub, the HTML representation is unable to render, please try loading this page with nbviewer.org.</b></div><div class=\"sk-container\" hidden><div class=\"sk-item\"><div class=\"sk-estimator sk-toggleable\"><input class=\"sk-toggleable__control sk-hidden--visually\" id=\"sk-estimator-id-1\" type=\"checkbox\" checked><label for=\"sk-estimator-id-1\" class=\"sk-toggleable__label sk-toggleable__label-arrow\">MinMaxScaler</label><div class=\"sk-toggleable__content\"><pre>MinMaxScaler()</pre></div></div></div></div></div>"
      ],
      "text/plain": [
       "MinMaxScaler()"
      ]
     },
     "execution_count": 38,
     "metadata": {},
     "output_type": "execute_result"
    }
   ],
   "source": [
    "scaler.fit(x_train)"
   ]
  },
  {
   "cell_type": "markdown",
   "id": "914b9f0d",
   "metadata": {},
   "source": [
    "# Verileri array dizilerine dönüştürme"
   ]
  },
  {
   "cell_type": "code",
   "execution_count": 39,
   "id": "97441c55",
   "metadata": {},
   "outputs": [],
   "source": [
    "x_train=scaler.transform(x_train)\n",
    "x_test=scaler.transform(x_test)"
   ]
  },
  {
   "cell_type": "code",
   "execution_count": 40,
   "id": "abda4881",
   "metadata": {},
   "outputs": [
    {
     "data": {
      "text/plain": [
       "array([[0.3177906 , 0.64341466],\n",
       "       [0.61991638, 0.89583174],\n",
       "       [0.53950097, 0.0980286 ],\n",
       "       ...,\n",
       "       [0.2352117 , 0.52644765],\n",
       "       [0.7576794 , 0.19157421],\n",
       "       [0.4292982 , 0.16530301]])"
      ]
     },
     "execution_count": 40,
     "metadata": {},
     "output_type": "execute_result"
    }
   ],
   "source": [
    "x_train"
   ]
  },
  {
   "cell_type": "markdown",
   "id": "de08a7a8",
   "metadata": {},
   "source": [
    "# Verileri Öğretme işlemi"
   ]
  },
  {
   "cell_type": "markdown",
   "id": "ba0a7564",
   "metadata": {},
   "source": [
    "## Verilerin nöronlarını ve hangi fonksiyonları kullanacağımızı belirliyoruz"
   ]
  },
  {
   "cell_type": "code",
   "execution_count": 58,
   "id": "3a1d80e5",
   "metadata": {},
   "outputs": [],
   "source": [
    "model=Sequential()\n",
    "model.add(Dense(4,activation=\"relu\"))\n",
    "model.add(Dense(4,activation=\"relu\"))\n",
    "model.add(Dense(4,activation=\"relu\")) #Desen(nöronlar,hangi fonksiyonu kullanıcağı)\n",
    "\n",
    "model.add(Dense(1))\n",
    "\n",
    "model.compile(optimizer = \"rmsprop\",loss = \"mse\")"
   ]
  },
  {
   "cell_type": "markdown",
   "id": "afffbabc",
   "metadata": {},
   "source": [
    "#  Verileri Tensorflow öğrettimi"
   ]
  },
  {
   "cell_type": "code",
   "execution_count": 59,
   "id": "116e56dc",
   "metadata": {},
   "outputs": [
    {
     "name": "stdout",
     "output_type": "stream",
     "text": [
      "Epoch 1/250\n",
      "21/21 [==============================] - 0s 1ms/step - loss: 795957.6875\n",
      "Epoch 2/250\n",
      "21/21 [==============================] - 0s 1ms/step - loss: 795780.7500\n",
      "Epoch 3/250\n",
      "21/21 [==============================] - 0s 1ms/step - loss: 795606.0000\n",
      "Epoch 4/250\n",
      "21/21 [==============================] - 0s 1ms/step - loss: 795430.0000\n",
      "Epoch 5/250\n",
      "21/21 [==============================] - 0s 1ms/step - loss: 795210.9375\n",
      "Epoch 6/250\n",
      "21/21 [==============================] - 0s 1ms/step - loss: 794949.2500\n",
      "Epoch 7/250\n",
      "21/21 [==============================] - 0s 1ms/step - loss: 794639.6250\n",
      "Epoch 8/250\n",
      "21/21 [==============================] - 0s 1ms/step - loss: 794274.1250\n",
      "Epoch 9/250\n",
      "21/21 [==============================] - 0s 995us/step - loss: 793853.1875\n",
      "Epoch 10/250\n",
      "21/21 [==============================] - 0s 1ms/step - loss: 793360.3125\n",
      "Epoch 11/250\n",
      "21/21 [==============================] - 0s 1ms/step - loss: 792791.8125\n",
      "Epoch 12/250\n",
      "21/21 [==============================] - 0s 898us/step - loss: 792138.5625\n",
      "Epoch 13/250\n",
      "21/21 [==============================] - 0s 1ms/step - loss: 791389.7500\n",
      "Epoch 14/250\n",
      "21/21 [==============================] - 0s 947us/step - loss: 790542.1250\n",
      "Epoch 15/250\n",
      "21/21 [==============================] - 0s 898us/step - loss: 789584.9375\n",
      "Epoch 16/250\n",
      "21/21 [==============================] - 0s 948us/step - loss: 788516.3125\n",
      "Epoch 17/250\n",
      "21/21 [==============================] - 0s 898us/step - loss: 787329.3750\n",
      "Epoch 18/250\n",
      "21/21 [==============================] - 0s 947us/step - loss: 786007.3750\n",
      "Epoch 19/250\n",
      "21/21 [==============================] - 0s 997us/step - loss: 784552.1875\n",
      "Epoch 20/250\n",
      "21/21 [==============================] - 0s 947us/step - loss: 782945.5000\n",
      "Epoch 21/250\n",
      "21/21 [==============================] - 0s 947us/step - loss: 781181.5625\n",
      "Epoch 22/250\n",
      "21/21 [==============================] - 0s 1ms/step - loss: 779259.6875\n",
      "Epoch 23/250\n",
      "21/21 [==============================] - 0s 997us/step - loss: 777172.7500\n",
      "Epoch 24/250\n",
      "21/21 [==============================] - 0s 997us/step - loss: 774904.6250\n",
      "Epoch 25/250\n",
      "21/21 [==============================] - 0s 997us/step - loss: 772462.8125\n",
      "Epoch 26/250\n",
      "21/21 [==============================] - 0s 2ms/step - loss: 769817.3125\n",
      "Epoch 27/250\n",
      "21/21 [==============================] - 0s 946us/step - loss: 766980.1250\n",
      "Epoch 28/250\n",
      "21/21 [==============================] - 0s 1ms/step - loss: 763918.2500\n",
      "Epoch 29/250\n",
      "21/21 [==============================] - 0s 997us/step - loss: 760626.7500\n",
      "Epoch 30/250\n",
      "21/21 [==============================] - 0s 1ms/step - loss: 757093.8125\n",
      "Epoch 31/250\n",
      "21/21 [==============================] - 0s 947us/step - loss: 753281.7500\n",
      "Epoch 32/250\n",
      "21/21 [==============================] - 0s 947us/step - loss: 749179.5000\n",
      "Epoch 33/250\n",
      "21/21 [==============================] - 0s 1ms/step - loss: 744765.6875\n",
      "Epoch 34/250\n",
      "21/21 [==============================] - 0s 1ms/step - loss: 740062.3750\n",
      "Epoch 35/250\n",
      "21/21 [==============================] - 0s 2ms/step - loss: 735038.5000\n",
      "Epoch 36/250\n",
      "21/21 [==============================] - 0s 3ms/step - loss: 729659.9375\n",
      "Epoch 37/250\n",
      "21/21 [==============================] - 0s 1ms/step - loss: 723920.9375\n",
      "Epoch 38/250\n",
      "21/21 [==============================] - 0s 1ms/step - loss: 717870.0625\n",
      "Epoch 39/250\n",
      "21/21 [==============================] - 0s 1ms/step - loss: 711413.1250\n",
      "Epoch 40/250\n",
      "21/21 [==============================] - 0s 1ms/step - loss: 704578.3125\n",
      "Epoch 41/250\n",
      "21/21 [==============================] - 0s 947us/step - loss: 697332.3125\n",
      "Epoch 42/250\n",
      "21/21 [==============================] - 0s 1ms/step - loss: 689737.3125\n",
      "Epoch 43/250\n",
      "21/21 [==============================] - 0s 947us/step - loss: 681711.0625\n",
      "Epoch 44/250\n",
      "21/21 [==============================] - 0s 947us/step - loss: 673203.1250\n",
      "Epoch 45/250\n",
      "21/21 [==============================] - 0s 1ms/step - loss: 664273.0625\n",
      "Epoch 46/250\n",
      "21/21 [==============================] - 0s 947us/step - loss: 654926.3125\n",
      "Epoch 47/250\n",
      "21/21 [==============================] - 0s 1ms/step - loss: 645132.3125\n",
      "Epoch 48/250\n",
      "21/21 [==============================] - 0s 947us/step - loss: 634910.5000\n",
      "Epoch 49/250\n",
      "21/21 [==============================] - 0s 1ms/step - loss: 624140.0625\n",
      "Epoch 50/250\n",
      "21/21 [==============================] - 0s 798us/step - loss: 612942.8125\n",
      "Epoch 51/250\n",
      "21/21 [==============================] - 0s 947us/step - loss: 601221.5625\n",
      "Epoch 52/250\n",
      "21/21 [==============================] - 0s 947us/step - loss: 589015.5000\n",
      "Epoch 53/250\n",
      "21/21 [==============================] - 0s 748us/step - loss: 576394.2500\n",
      "Epoch 54/250\n",
      "21/21 [==============================] - 0s 997us/step - loss: 563313.2500\n",
      "Epoch 55/250\n",
      "21/21 [==============================] - 0s 848us/step - loss: 549785.8125\n",
      "Epoch 56/250\n",
      "21/21 [==============================] - 0s 848us/step - loss: 535676.5000\n",
      "Epoch 57/250\n",
      "21/21 [==============================] - 0s 798us/step - loss: 521135.3750\n",
      "Epoch 58/250\n",
      "21/21 [==============================] - 0s 798us/step - loss: 506114.2500\n",
      "Epoch 59/250\n",
      "21/21 [==============================] - 0s 848us/step - loss: 490622.2188\n",
      "Epoch 60/250\n",
      "21/21 [==============================] - 0s 798us/step - loss: 474892.4062\n",
      "Epoch 61/250\n",
      "21/21 [==============================] - 0s 848us/step - loss: 458651.1250\n",
      "Epoch 62/250\n",
      "21/21 [==============================] - 0s 848us/step - loss: 441857.1562\n",
      "Epoch 63/250\n",
      "21/21 [==============================] - 0s 748us/step - loss: 424814.9062\n",
      "Epoch 64/250\n",
      "21/21 [==============================] - 0s 798us/step - loss: 407408.2500\n",
      "Epoch 65/250\n",
      "21/21 [==============================] - 0s 747us/step - loss: 389671.2500\n",
      "Epoch 66/250\n",
      "21/21 [==============================] - 0s 798us/step - loss: 371608.7500\n",
      "Epoch 67/250\n",
      "21/21 [==============================] - 0s 848us/step - loss: 353254.1875\n",
      "Epoch 68/250\n",
      "21/21 [==============================] - 0s 798us/step - loss: 334746.2500\n",
      "Epoch 69/250\n",
      "21/21 [==============================] - 0s 798us/step - loss: 316094.3750\n",
      "Epoch 70/250\n",
      "21/21 [==============================] - 0s 748us/step - loss: 297179.9062\n",
      "Epoch 71/250\n",
      "21/21 [==============================] - 0s 798us/step - loss: 278298.7812\n",
      "Epoch 72/250\n",
      "21/21 [==============================] - 0s 848us/step - loss: 259278.9688\n",
      "Epoch 73/250\n",
      "21/21 [==============================] - 0s 748us/step - loss: 240371.9688\n",
      "Epoch 74/250\n",
      "21/21 [==============================] - 0s 797us/step - loss: 221623.1719\n",
      "Epoch 75/250\n",
      "21/21 [==============================] - 0s 798us/step - loss: 202962.8906\n",
      "Epoch 76/250\n",
      "21/21 [==============================] - 0s 798us/step - loss: 184526.7969\n",
      "Epoch 77/250\n",
      "21/21 [==============================] - 0s 798us/step - loss: 166475.8594\n",
      "Epoch 78/250\n",
      "21/21 [==============================] - 0s 848us/step - loss: 148825.6094\n",
      "Epoch 79/250\n",
      "21/21 [==============================] - 0s 798us/step - loss: 131648.3438\n",
      "Epoch 80/250\n",
      "21/21 [==============================] - 0s 798us/step - loss: 115074.4375\n",
      "Epoch 81/250\n",
      "21/21 [==============================] - 0s 748us/step - loss: 99224.0859\n",
      "Epoch 82/250\n",
      "21/21 [==============================] - 0s 798us/step - loss: 84125.2266\n",
      "Epoch 83/250\n",
      "21/21 [==============================] - 0s 848us/step - loss: 70139.5547\n",
      "Epoch 84/250\n",
      "21/21 [==============================] - 0s 798us/step - loss: 57201.0938\n",
      "Epoch 85/250\n",
      "21/21 [==============================] - 0s 798us/step - loss: 45455.0586\n",
      "Epoch 86/250\n",
      "21/21 [==============================] - 0s 798us/step - loss: 35072.2969\n",
      "Epoch 87/250\n",
      "21/21 [==============================] - 0s 798us/step - loss: 26183.5977\n",
      "Epoch 88/250\n",
      "21/21 [==============================] - 0s 798us/step - loss: 18820.4785\n",
      "Epoch 89/250\n",
      "21/21 [==============================] - 0s 798us/step - loss: 13117.9375\n",
      "Epoch 90/250\n",
      "21/21 [==============================] - 0s 798us/step - loss: 9227.6152\n",
      "Epoch 91/250\n",
      "21/21 [==============================] - 0s 798us/step - loss: 6992.1338\n",
      "Epoch 92/250\n",
      "21/21 [==============================] - 0s 798us/step - loss: 6129.0908\n",
      "Epoch 93/250\n",
      "21/21 [==============================] - 0s 798us/step - loss: 5916.5625\n",
      "Epoch 94/250\n",
      "21/21 [==============================] - 0s 848us/step - loss: 5799.7456\n",
      "Epoch 95/250\n"
     ]
    },
    {
     "name": "stdout",
     "output_type": "stream",
     "text": [
      "21/21 [==============================] - 0s 848us/step - loss: 5678.4663\n",
      "Epoch 96/250\n",
      "21/21 [==============================] - 0s 848us/step - loss: 5569.0957\n",
      "Epoch 97/250\n",
      "21/21 [==============================] - 0s 848us/step - loss: 5464.3218\n",
      "Epoch 98/250\n",
      "21/21 [==============================] - 0s 798us/step - loss: 5357.8433\n",
      "Epoch 99/250\n",
      "21/21 [==============================] - 0s 798us/step - loss: 5250.6704\n",
      "Epoch 100/250\n",
      "21/21 [==============================] - 0s 847us/step - loss: 5135.6113\n",
      "Epoch 101/250\n",
      "21/21 [==============================] - 0s 748us/step - loss: 5030.1499\n",
      "Epoch 102/250\n",
      "21/21 [==============================] - 0s 748us/step - loss: 4917.3594\n",
      "Epoch 103/250\n",
      "21/21 [==============================] - 0s 798us/step - loss: 4817.3252\n",
      "Epoch 104/250\n",
      "21/21 [==============================] - 0s 748us/step - loss: 4718.7085\n",
      "Epoch 105/250\n",
      "21/21 [==============================] - 0s 748us/step - loss: 4612.0186\n",
      "Epoch 106/250\n",
      "21/21 [==============================] - 0s 798us/step - loss: 4512.8975\n",
      "Epoch 107/250\n",
      "21/21 [==============================] - 0s 798us/step - loss: 4418.2363\n",
      "Epoch 108/250\n",
      "21/21 [==============================] - 0s 798us/step - loss: 4320.3428\n",
      "Epoch 109/250\n",
      "21/21 [==============================] - 0s 748us/step - loss: 4214.4917\n",
      "Epoch 110/250\n",
      "21/21 [==============================] - 0s 798us/step - loss: 4129.4448\n",
      "Epoch 111/250\n",
      "21/21 [==============================] - 0s 848us/step - loss: 4030.1877\n",
      "Epoch 112/250\n",
      "21/21 [==============================] - 0s 798us/step - loss: 3957.1335\n",
      "Epoch 113/250\n",
      "21/21 [==============================] - 0s 848us/step - loss: 3864.6448\n",
      "Epoch 114/250\n",
      "21/21 [==============================] - 0s 798us/step - loss: 3779.3396\n",
      "Epoch 115/250\n",
      "21/21 [==============================] - 0s 798us/step - loss: 3697.6477\n",
      "Epoch 116/250\n",
      "21/21 [==============================] - 0s 748us/step - loss: 3611.3630\n",
      "Epoch 117/250\n",
      "21/21 [==============================] - 0s 798us/step - loss: 3526.4775\n",
      "Epoch 118/250\n",
      "21/21 [==============================] - 0s 748us/step - loss: 3426.1836\n",
      "Epoch 119/250\n",
      "21/21 [==============================] - 0s 798us/step - loss: 3358.1838\n",
      "Epoch 120/250\n",
      "21/21 [==============================] - 0s 798us/step - loss: 3273.1025\n",
      "Epoch 121/250\n",
      "21/21 [==============================] - 0s 748us/step - loss: 3189.8108\n",
      "Epoch 122/250\n",
      "21/21 [==============================] - 0s 946us/step - loss: 3111.3005\n",
      "Epoch 123/250\n",
      "21/21 [==============================] - 0s 848us/step - loss: 3017.5781\n",
      "Epoch 124/250\n",
      "21/21 [==============================] - 0s 748us/step - loss: 2949.1086\n",
      "Epoch 125/250\n",
      "21/21 [==============================] - 0s 748us/step - loss: 2861.7891\n",
      "Epoch 126/250\n",
      "21/21 [==============================] - 0s 1ms/step - loss: 2767.8208\n",
      "Epoch 127/250\n",
      "21/21 [==============================] - 0s 748us/step - loss: 2696.5669\n",
      "Epoch 128/250\n",
      "21/21 [==============================] - 0s 1ms/step - loss: 2618.3328\n",
      "Epoch 129/250\n",
      "21/21 [==============================] - 0s 948us/step - loss: 2534.5642\n",
      "Epoch 130/250\n",
      "21/21 [==============================] - 0s 1ms/step - loss: 2453.2214\n",
      "Epoch 131/250\n",
      "21/21 [==============================] - 0s 798us/step - loss: 2373.3789\n",
      "Epoch 132/250\n",
      "21/21 [==============================] - 0s 748us/step - loss: 2295.4446\n",
      "Epoch 133/250\n",
      "21/21 [==============================] - 0s 698us/step - loss: 2221.8604\n",
      "Epoch 134/250\n",
      "21/21 [==============================] - 0s 748us/step - loss: 2149.2617\n",
      "Epoch 135/250\n",
      "21/21 [==============================] - 0s 698us/step - loss: 2079.6140\n",
      "Epoch 136/250\n",
      "21/21 [==============================] - 0s 748us/step - loss: 2004.0117\n",
      "Epoch 137/250\n",
      "21/21 [==============================] - 0s 898us/step - loss: 1939.1722\n",
      "Epoch 138/250\n",
      "21/21 [==============================] - 0s 1ms/step - loss: 1863.2625\n",
      "Epoch 139/250\n",
      "21/21 [==============================] - 0s 848us/step - loss: 1799.6067\n",
      "Epoch 140/250\n",
      "21/21 [==============================] - 0s 798us/step - loss: 1724.5181\n",
      "Epoch 141/250\n",
      "21/21 [==============================] - 0s 748us/step - loss: 1665.8636\n",
      "Epoch 142/250\n",
      "21/21 [==============================] - 0s 798us/step - loss: 1596.1218\n",
      "Epoch 143/250\n",
      "21/21 [==============================] - 0s 748us/step - loss: 1537.7084\n",
      "Epoch 144/250\n",
      "21/21 [==============================] - 0s 798us/step - loss: 1473.2806\n",
      "Epoch 145/250\n",
      "21/21 [==============================] - 0s 748us/step - loss: 1414.6854\n",
      "Epoch 146/250\n",
      "21/21 [==============================] - 0s 748us/step - loss: 1354.9373\n",
      "Epoch 147/250\n",
      "21/21 [==============================] - 0s 848us/step - loss: 1305.2695\n",
      "Epoch 148/250\n",
      "21/21 [==============================] - 0s 748us/step - loss: 1241.1350\n",
      "Epoch 149/250\n",
      "21/21 [==============================] - 0s 747us/step - loss: 1181.3007\n",
      "Epoch 150/250\n",
      "21/21 [==============================] - 0s 748us/step - loss: 1119.6747\n",
      "Epoch 151/250\n",
      "21/21 [==============================] - 0s 748us/step - loss: 1061.1023\n",
      "Epoch 152/250\n",
      "21/21 [==============================] - 0s 698us/step - loss: 1008.4066\n",
      "Epoch 153/250\n",
      "21/21 [==============================] - 0s 748us/step - loss: 955.5189\n",
      "Epoch 154/250\n",
      "21/21 [==============================] - 0s 748us/step - loss: 906.9896\n",
      "Epoch 155/250\n",
      "21/21 [==============================] - 0s 798us/step - loss: 859.2922\n",
      "Epoch 156/250\n",
      "21/21 [==============================] - 0s 748us/step - loss: 811.3154\n",
      "Epoch 157/250\n",
      "21/21 [==============================] - 0s 798us/step - loss: 775.6059\n",
      "Epoch 158/250\n",
      "21/21 [==============================] - 0s 748us/step - loss: 736.6458\n",
      "Epoch 159/250\n",
      "21/21 [==============================] - 0s 798us/step - loss: 701.4641\n",
      "Epoch 160/250\n",
      "21/21 [==============================] - 0s 748us/step - loss: 666.7639\n",
      "Epoch 161/250\n",
      "21/21 [==============================] - 0s 798us/step - loss: 628.3353\n",
      "Epoch 162/250\n",
      "21/21 [==============================] - 0s 748us/step - loss: 593.3646\n",
      "Epoch 163/250\n",
      "21/21 [==============================] - 0s 798us/step - loss: 554.1093\n",
      "Epoch 164/250\n",
      "21/21 [==============================] - 0s 748us/step - loss: 515.0743\n",
      "Epoch 165/250\n",
      "21/21 [==============================] - 0s 1ms/step - loss: 479.5944\n",
      "Epoch 166/250\n",
      "21/21 [==============================] - 0s 898us/step - loss: 451.3136\n",
      "Epoch 167/250\n",
      "21/21 [==============================] - 0s 947us/step - loss: 421.4206\n",
      "Epoch 168/250\n",
      "21/21 [==============================] - 0s 2ms/step - loss: 399.7484\n",
      "Epoch 169/250\n",
      "21/21 [==============================] - 0s 848us/step - loss: 375.0049\n",
      "Epoch 170/250\n",
      "21/21 [==============================] - 0s 798us/step - loss: 348.8083\n",
      "Epoch 171/250\n",
      "21/21 [==============================] - 0s 798us/step - loss: 325.9764\n",
      "Epoch 172/250\n",
      "21/21 [==============================] - 0s 798us/step - loss: 302.4482\n",
      "Epoch 173/250\n",
      "21/21 [==============================] - 0s 848us/step - loss: 280.9126\n",
      "Epoch 174/250\n",
      "21/21 [==============================] - 0s 798us/step - loss: 260.8971\n",
      "Epoch 175/250\n",
      "21/21 [==============================] - 0s 798us/step - loss: 241.7942\n",
      "Epoch 176/250\n",
      "21/21 [==============================] - 0s 848us/step - loss: 228.6339\n",
      "Epoch 177/250\n",
      "21/21 [==============================] - 0s 798us/step - loss: 210.5330\n",
      "Epoch 178/250\n",
      "21/21 [==============================] - 0s 798us/step - loss: 196.1507\n",
      "Epoch 179/250\n",
      "21/21 [==============================] - 0s 798us/step - loss: 179.9133\n",
      "Epoch 180/250\n",
      "21/21 [==============================] - 0s 848us/step - loss: 162.5690\n",
      "Epoch 181/250\n",
      "21/21 [==============================] - 0s 798us/step - loss: 152.6731\n",
      "Epoch 182/250\n",
      "21/21 [==============================] - 0s 798us/step - loss: 141.9796\n",
      "Epoch 183/250\n",
      "21/21 [==============================] - 0s 798us/step - loss: 133.4804\n",
      "Epoch 184/250\n",
      "21/21 [==============================] - 0s 798us/step - loss: 125.7464\n",
      "Epoch 185/250\n",
      "21/21 [==============================] - 0s 798us/step - loss: 119.7731\n",
      "Epoch 186/250\n",
      "21/21 [==============================] - 0s 798us/step - loss: 112.8005\n",
      "Epoch 187/250\n",
      "21/21 [==============================] - 0s 798us/step - loss: 107.6332\n",
      "Epoch 188/250\n",
      "21/21 [==============================] - 0s 848us/step - loss: 103.1175\n",
      "Epoch 189/250\n",
      "21/21 [==============================] - 0s 798us/step - loss: 99.5489\n"
     ]
    },
    {
     "name": "stdout",
     "output_type": "stream",
     "text": [
      "Epoch 190/250\n",
      "21/21 [==============================] - 0s 798us/step - loss: 96.2367\n",
      "Epoch 191/250\n",
      "21/21 [==============================] - 0s 848us/step - loss: 90.6290\n",
      "Epoch 192/250\n",
      "21/21 [==============================] - 0s 798us/step - loss: 89.6654\n",
      "Epoch 193/250\n",
      "21/21 [==============================] - 0s 798us/step - loss: 87.5568\n",
      "Epoch 194/250\n",
      "21/21 [==============================] - 0s 798us/step - loss: 85.0094\n",
      "Epoch 195/250\n",
      "21/21 [==============================] - 0s 798us/step - loss: 83.3869\n",
      "Epoch 196/250\n",
      "21/21 [==============================] - 0s 798us/step - loss: 82.4571\n",
      "Epoch 197/250\n",
      "21/21 [==============================] - 0s 748us/step - loss: 80.8106\n",
      "Epoch 198/250\n",
      "21/21 [==============================] - 0s 848us/step - loss: 80.4995\n",
      "Epoch 199/250\n",
      "21/21 [==============================] - 0s 1ms/step - loss: 78.1481\n",
      "Epoch 200/250\n",
      "21/21 [==============================] - 0s 798us/step - loss: 77.4905\n",
      "Epoch 201/250\n",
      "21/21 [==============================] - 0s 748us/step - loss: 79.2141\n",
      "Epoch 202/250\n",
      "21/21 [==============================] - 0s 798us/step - loss: 76.8805\n",
      "Epoch 203/250\n",
      "21/21 [==============================] - 0s 748us/step - loss: 76.3912\n",
      "Epoch 204/250\n",
      "21/21 [==============================] - 0s 798us/step - loss: 76.8078\n",
      "Epoch 205/250\n",
      "21/21 [==============================] - 0s 798us/step - loss: 77.1327\n",
      "Epoch 206/250\n",
      "21/21 [==============================] - 0s 798us/step - loss: 76.8489\n",
      "Epoch 207/250\n",
      "21/21 [==============================] - 0s 698us/step - loss: 75.2134\n",
      "Epoch 208/250\n",
      "21/21 [==============================] - 0s 748us/step - loss: 76.2482\n",
      "Epoch 209/250\n",
      "21/21 [==============================] - 0s 748us/step - loss: 74.6815\n",
      "Epoch 210/250\n",
      "21/21 [==============================] - 0s 798us/step - loss: 74.7208\n",
      "Epoch 211/250\n",
      "21/21 [==============================] - 0s 798us/step - loss: 75.4708\n",
      "Epoch 212/250\n",
      "21/21 [==============================] - 0s 798us/step - loss: 74.1775\n",
      "Epoch 213/250\n",
      "21/21 [==============================] - 0s 798us/step - loss: 75.9640\n",
      "Epoch 214/250\n",
      "21/21 [==============================] - 0s 798us/step - loss: 74.3597\n",
      "Epoch 215/250\n",
      "21/21 [==============================] - 0s 798us/step - loss: 75.4539\n",
      "Epoch 216/250\n",
      "21/21 [==============================] - 0s 848us/step - loss: 74.0181\n",
      "Epoch 217/250\n",
      "21/21 [==============================] - 0s 748us/step - loss: 75.2098\n",
      "Epoch 218/250\n",
      "21/21 [==============================] - 0s 798us/step - loss: 73.7997\n",
      "Epoch 219/250\n",
      "21/21 [==============================] - 0s 798us/step - loss: 74.6120\n",
      "Epoch 220/250\n",
      "21/21 [==============================] - 0s 848us/step - loss: 76.1758\n",
      "Epoch 221/250\n",
      "21/21 [==============================] - 0s 848us/step - loss: 74.0986\n",
      "Epoch 222/250\n",
      "21/21 [==============================] - 0s 848us/step - loss: 75.1342\n",
      "Epoch 223/250\n",
      "21/21 [==============================] - 0s 948us/step - loss: 73.9724\n",
      "Epoch 224/250\n",
      "21/21 [==============================] - 0s 997us/step - loss: 75.7960\n",
      "Epoch 225/250\n",
      "21/21 [==============================] - 0s 898us/step - loss: 74.6564\n",
      "Epoch 226/250\n",
      "21/21 [==============================] - 0s 947us/step - loss: 75.2457\n",
      "Epoch 227/250\n",
      "21/21 [==============================] - 0s 898us/step - loss: 74.9120\n",
      "Epoch 228/250\n",
      "21/21 [==============================] - 0s 698us/step - loss: 74.6255\n",
      "Epoch 229/250\n",
      "21/21 [==============================] - 0s 898us/step - loss: 74.6639\n",
      "Epoch 230/250\n",
      "21/21 [==============================] - 0s 848us/step - loss: 76.2373\n",
      "Epoch 231/250\n",
      "21/21 [==============================] - 0s 798us/step - loss: 75.3721\n",
      "Epoch 232/250\n",
      "21/21 [==============================] - 0s 798us/step - loss: 74.9284\n",
      "Epoch 233/250\n",
      "21/21 [==============================] - 0s 848us/step - loss: 75.0517\n",
      "Epoch 234/250\n",
      "21/21 [==============================] - 0s 798us/step - loss: 75.2080\n",
      "Epoch 235/250\n",
      "21/21 [==============================] - 0s 848us/step - loss: 74.2814\n",
      "Epoch 236/250\n",
      "21/21 [==============================] - 0s 798us/step - loss: 74.9571\n",
      "Epoch 237/250\n",
      "21/21 [==============================] - 0s 797us/step - loss: 75.0852\n",
      "Epoch 238/250\n",
      "21/21 [==============================] - 0s 748us/step - loss: 74.4456\n",
      "Epoch 239/250\n",
      "21/21 [==============================] - 0s 798us/step - loss: 74.1489\n",
      "Epoch 240/250\n",
      "21/21 [==============================] - 0s 798us/step - loss: 74.1715\n",
      "Epoch 241/250\n",
      "21/21 [==============================] - 0s 798us/step - loss: 75.5821\n",
      "Epoch 242/250\n",
      "21/21 [==============================] - 0s 748us/step - loss: 75.0155\n",
      "Epoch 243/250\n",
      "21/21 [==============================] - 0s 798us/step - loss: 75.5327\n",
      "Epoch 244/250\n",
      "21/21 [==============================] - 0s 748us/step - loss: 73.7949\n",
      "Epoch 245/250\n",
      "21/21 [==============================] - 0s 748us/step - loss: 76.9829\n",
      "Epoch 246/250\n",
      "21/21 [==============================] - 0s 798us/step - loss: 73.4214\n",
      "Epoch 247/250\n",
      "21/21 [==============================] - 0s 798us/step - loss: 75.3955\n",
      "Epoch 248/250\n",
      "21/21 [==============================] - 0s 748us/step - loss: 74.9656\n",
      "Epoch 249/250\n",
      "21/21 [==============================] - 0s 798us/step - loss: 75.9835\n",
      "Epoch 250/250\n",
      "21/21 [==============================] - 0s 798us/step - loss: 76.3077\n"
     ]
    },
    {
     "data": {
      "text/plain": [
       "<tensorflow.python.keras.callbacks.History at 0x20e78e018e0>"
      ]
     },
     "execution_count": 59,
     "metadata": {},
     "output_type": "execute_result"
    }
   ],
   "source": [
    "model.fit(x_train,y_train,epochs=250)"
   ]
  },
  {
   "cell_type": "code",
   "execution_count": 64,
   "id": "cf0d2471",
   "metadata": {},
   "outputs": [
    {
     "data": {
      "text/plain": [
       "[795957.6875,\n",
       " 795780.75,\n",
       " 795606.0,\n",
       " 795430.0,\n",
       " 795210.9375,\n",
       " 794949.25,\n",
       " 794639.625,\n",
       " 794274.125,\n",
       " 793853.1875,\n",
       " 793360.3125,\n",
       " 792791.8125,\n",
       " 792138.5625,\n",
       " 791389.75,\n",
       " 790542.125,\n",
       " 789584.9375,\n",
       " 788516.3125,\n",
       " 787329.375,\n",
       " 786007.375,\n",
       " 784552.1875,\n",
       " 782945.5,\n",
       " 781181.5625,\n",
       " 779259.6875,\n",
       " 777172.75,\n",
       " 774904.625,\n",
       " 772462.8125,\n",
       " 769817.3125,\n",
       " 766980.125,\n",
       " 763918.25,\n",
       " 760626.75,\n",
       " 757093.8125,\n",
       " 753281.75,\n",
       " 749179.5,\n",
       " 744765.6875,\n",
       " 740062.375,\n",
       " 735038.5,\n",
       " 729659.9375,\n",
       " 723920.9375,\n",
       " 717870.0625,\n",
       " 711413.125,\n",
       " 704578.3125,\n",
       " 697332.3125,\n",
       " 689737.3125,\n",
       " 681711.0625,\n",
       " 673203.125,\n",
       " 664273.0625,\n",
       " 654926.3125,\n",
       " 645132.3125,\n",
       " 634910.5,\n",
       " 624140.0625,\n",
       " 612942.8125,\n",
       " 601221.5625,\n",
       " 589015.5,\n",
       " 576394.25,\n",
       " 563313.25,\n",
       " 549785.8125,\n",
       " 535676.5,\n",
       " 521135.375,\n",
       " 506114.25,\n",
       " 490622.21875,\n",
       " 474892.40625,\n",
       " 458651.125,\n",
       " 441857.15625,\n",
       " 424814.90625,\n",
       " 407408.25,\n",
       " 389671.25,\n",
       " 371608.75,\n",
       " 353254.1875,\n",
       " 334746.25,\n",
       " 316094.375,\n",
       " 297179.90625,\n",
       " 278298.78125,\n",
       " 259278.96875,\n",
       " 240371.96875,\n",
       " 221623.171875,\n",
       " 202962.890625,\n",
       " 184526.796875,\n",
       " 166475.859375,\n",
       " 148825.609375,\n",
       " 131648.34375,\n",
       " 115074.4375,\n",
       " 99224.0859375,\n",
       " 84125.2265625,\n",
       " 70139.5546875,\n",
       " 57201.09375,\n",
       " 45455.05859375,\n",
       " 35072.296875,\n",
       " 26183.59765625,\n",
       " 18820.478515625,\n",
       " 13117.9375,\n",
       " 9227.615234375,\n",
       " 6992.1337890625,\n",
       " 6129.0908203125,\n",
       " 5916.5625,\n",
       " 5799.74560546875,\n",
       " 5678.46630859375,\n",
       " 5569.095703125,\n",
       " 5464.32177734375,\n",
       " 5357.84326171875,\n",
       " 5250.67041015625,\n",
       " 5135.611328125,\n",
       " 5030.14990234375,\n",
       " 4917.359375,\n",
       " 4817.3251953125,\n",
       " 4718.70849609375,\n",
       " 4612.0185546875,\n",
       " 4512.8974609375,\n",
       " 4418.236328125,\n",
       " 4320.3427734375,\n",
       " 4214.49169921875,\n",
       " 4129.44482421875,\n",
       " 4030.187744140625,\n",
       " 3957.133544921875,\n",
       " 3864.644775390625,\n",
       " 3779.339599609375,\n",
       " 3697.647705078125,\n",
       " 3611.363037109375,\n",
       " 3526.4775390625,\n",
       " 3426.18359375,\n",
       " 3358.183837890625,\n",
       " 3273.1025390625,\n",
       " 3189.810791015625,\n",
       " 3111.300537109375,\n",
       " 3017.578125,\n",
       " 2949.108642578125,\n",
       " 2861.7890625,\n",
       " 2767.82080078125,\n",
       " 2696.56689453125,\n",
       " 2618.332763671875,\n",
       " 2534.564208984375,\n",
       " 2453.221435546875,\n",
       " 2373.37890625,\n",
       " 2295.444580078125,\n",
       " 2221.8603515625,\n",
       " 2149.26171875,\n",
       " 2079.614013671875,\n",
       " 2004.01171875,\n",
       " 1939.1722412109375,\n",
       " 1863.262451171875,\n",
       " 1799.606689453125,\n",
       " 1724.51806640625,\n",
       " 1665.8636474609375,\n",
       " 1596.121826171875,\n",
       " 1537.7083740234375,\n",
       " 1473.2806396484375,\n",
       " 1414.6854248046875,\n",
       " 1354.937255859375,\n",
       " 1305.26953125,\n",
       " 1241.135009765625,\n",
       " 1181.3006591796875,\n",
       " 1119.6746826171875,\n",
       " 1061.102294921875,\n",
       " 1008.4065551757812,\n",
       " 955.5188598632812,\n",
       " 906.9896240234375,\n",
       " 859.292236328125,\n",
       " 811.3153686523438,\n",
       " 775.6058959960938,\n",
       " 736.645751953125,\n",
       " 701.464111328125,\n",
       " 666.763916015625,\n",
       " 628.3353271484375,\n",
       " 593.3645629882812,\n",
       " 554.1092529296875,\n",
       " 515.0742797851562,\n",
       " 479.5943908691406,\n",
       " 451.3135681152344,\n",
       " 421.4205627441406,\n",
       " 399.7484130859375,\n",
       " 375.00494384765625,\n",
       " 348.808349609375,\n",
       " 325.9764099121094,\n",
       " 302.4482421875,\n",
       " 280.91259765625,\n",
       " 260.8970642089844,\n",
       " 241.794189453125,\n",
       " 228.63392639160156,\n",
       " 210.532958984375,\n",
       " 196.15069580078125,\n",
       " 179.91334533691406,\n",
       " 162.5690460205078,\n",
       " 152.6731414794922,\n",
       " 141.97959899902344,\n",
       " 133.48040771484375,\n",
       " 125.74640655517578,\n",
       " 119.77307891845703,\n",
       " 112.80045318603516,\n",
       " 107.63323211669922,\n",
       " 103.1174545288086,\n",
       " 99.54891204833984,\n",
       " 96.23674011230469,\n",
       " 90.6290283203125,\n",
       " 89.66539001464844,\n",
       " 87.55680084228516,\n",
       " 85.00943756103516,\n",
       " 83.38685607910156,\n",
       " 82.45711517333984,\n",
       " 80.81056213378906,\n",
       " 80.49954223632812,\n",
       " 78.14810180664062,\n",
       " 77.49047088623047,\n",
       " 79.21405029296875,\n",
       " 76.88053894042969,\n",
       " 76.39118194580078,\n",
       " 76.80782318115234,\n",
       " 77.13270568847656,\n",
       " 76.848876953125,\n",
       " 75.21339416503906,\n",
       " 76.24817657470703,\n",
       " 74.68147277832031,\n",
       " 74.72081756591797,\n",
       " 75.4708023071289,\n",
       " 74.17745971679688,\n",
       " 75.96395111083984,\n",
       " 74.35968780517578,\n",
       " 75.45393371582031,\n",
       " 74.01814270019531,\n",
       " 75.2098159790039,\n",
       " 73.79969024658203,\n",
       " 74.61198425292969,\n",
       " 76.17576599121094,\n",
       " 74.09857940673828,\n",
       " 75.13417053222656,\n",
       " 73.9723892211914,\n",
       " 75.7959976196289,\n",
       " 74.65643310546875,\n",
       " 75.24568939208984,\n",
       " 74.9120101928711,\n",
       " 74.62547302246094,\n",
       " 74.66387939453125,\n",
       " 76.23733520507812,\n",
       " 75.37214660644531,\n",
       " 74.9283676147461,\n",
       " 75.05168151855469,\n",
       " 75.20804595947266,\n",
       " 74.28144836425781,\n",
       " 74.95709228515625,\n",
       " 75.08523559570312,\n",
       " 74.44560241699219,\n",
       " 74.1489028930664,\n",
       " 74.17149353027344,\n",
       " 75.58210754394531,\n",
       " 75.01551818847656,\n",
       " 75.53272247314453,\n",
       " 73.79488372802734,\n",
       " 76.98286437988281,\n",
       " 73.42140197753906,\n",
       " 75.3955307006836,\n",
       " 74.96561431884766,\n",
       " 75.9834976196289,\n",
       " 76.30774688720703]"
      ]
     },
     "execution_count": 64,
     "metadata": {},
     "output_type": "execute_result"
    }
   ],
   "source": [
    "loss = model.history.history[\"loss\"]\n",
    "loss"
   ]
  },
  {
   "cell_type": "markdown",
   "id": "d799d87b",
   "metadata": {},
   "source": [
    "### Verilerin kayıp Haritası"
   ]
  },
  {
   "cell_type": "code",
   "execution_count": 65,
   "id": "c915a3c6",
   "metadata": {},
   "outputs": [
    {
     "data": {
      "text/plain": [
       "<AxesSubplot:>"
      ]
     },
     "execution_count": 65,
     "metadata": {},
     "output_type": "execute_result"
    },
    {
     "data": {
      "image/png": "[encoded data removed]",
      "text/plain": [
       "<Figure size 640x480 with 1 Axes>"
      ]
     },
     "metadata": {},
     "output_type": "display_data"
    }
   ],
   "source": [
    "sbn.lineplot(x=range(len(loss)),y=loss)"
   ]
  },
  {
   "cell_type": "markdown",
   "id": "93807967",
   "metadata": {},
   "source": [
    "### Verbose komutu kullanımı"
   ]
  },
  {
   "cell_type": "markdown",
   "id": "afa60e2f",
   "metadata": {},
   "source": [
    "https://keras.io/api/models/model/ dökümantasyonlarını okuyabiliriniz"
   ]
  },
  {
   "cell_type": "code",
   "execution_count": 71,
   "id": "c256a403",
   "metadata": {},
   "outputs": [
    {
     "data": {
      "text/plain": [
       "73.35162353515625"
      ]
     },
     "execution_count": 71,
     "metadata": {},
     "output_type": "execute_result"
    }
   ],
   "source": [
    "trainLoss=model.evaluate(x_train,y_train,verbose=0)\n",
    "trainLoss"
   ]
  },
  {
   "cell_type": "code",
   "execution_count": 73,
   "id": "c1125b11",
   "metadata": {},
   "outputs": [
    {
     "data": {
      "text/plain": [
       "75.0453872680664"
      ]
     },
     "execution_count": 73,
     "metadata": {},
     "output_type": "execute_result"
    }
   ],
   "source": [
    "testLoss=model.evaluate(x_test,y_test,verbose=0)\n",
    "testLoss"
   ]
  },
  {
   "cell_type": "markdown",
   "id": "3ca0cad6",
   "metadata": {},
   "source": [
    "#### Verileri Tahminleme"
   ]
  },
  {
   "cell_type": "code",
   "execution_count": 75,
   "id": "a328a164",
   "metadata": {},
   "outputs": [],
   "source": [
    "testTahminleri=model.predict(x_test)"
   ]
  },
  {
   "cell_type": "code",
   "execution_count": 76,
   "id": "d7e8a0c6",
   "metadata": {},
   "outputs": [
    {
     "data": {
      "text/plain": [
       "array([[1078.4845 ],\n",
       "       [ 624.0528 ],\n",
       "       [ 876.6037 ],\n",
       "       [ 894.6332 ],\n",
       "       [ 899.8823 ],\n",
       "       [ 451.41574],\n",
       "       [ 931.6502 ],\n",
       "       [ 991.98724],\n",
       "       [ 941.81665],\n",
       "       [1017.3908 ],\n",
       "       [ 751.3031 ],\n",
       "       [ 918.45123],\n",
       "       [ 947.98065],\n",
       "       [1055.3779 ],\n",
       "       [1122.2667 ],\n",
       "       [ 681.81146],\n",
       "       [1127.6342 ],\n",
       "       [ 651.07135],\n",
       "       [1155.2751 ],\n",
       "       [ 887.03986],\n",
       "       [ 893.3007 ],\n",
       "       [ 717.1558 ],\n",
       "       [ 456.98642],\n",
       "       [ 612.12714],\n",
       "       [ 835.4741 ],\n",
       "       [1091.9464 ],\n",
       "       [ 714.05646],\n",
       "       [ 757.20416],\n",
       "       [ 873.8899 ],\n",
       "       [ 770.9582 ],\n",
       "       [ 451.26315],\n",
       "       [ 783.47394],\n",
       "       [ 728.5894 ],\n",
       "       [ 646.9982 ],\n",
       "       [ 887.18976],\n",
       "       [ 844.22174],\n",
       "       [1036.3933 ],\n",
       "       [1023.3701 ],\n",
       "       [ 845.3924 ],\n",
       "       [ 862.6447 ],\n",
       "       [ 757.5018 ],\n",
       "       [1175.3247 ],\n",
       "       [1098.3203 ],\n",
       "       [1088.5311 ],\n",
       "       [ 873.7248 ],\n",
       "       [ 596.80914],\n",
       "       [1146.4122 ],\n",
       "       [ 973.6701 ],\n",
       "       [1042.3339 ],\n",
       "       [ 858.55804],\n",
       "       [ 804.2382 ],\n",
       "       [ 859.5943 ],\n",
       "       [ 794.87823],\n",
       "       [1012.2797 ],\n",
       "       [1035.4368 ],\n",
       "       [ 935.09393],\n",
       "       [ 947.00836],\n",
       "       [1076.226  ],\n",
       "       [ 885.727  ],\n",
       "       [1011.3044 ],\n",
       "       [ 787.62933],\n",
       "       [ 850.8193 ],\n",
       "       [ 725.8921 ],\n",
       "       [ 894.31824],\n",
       "       [ 971.61273],\n",
       "       [ 700.46533],\n",
       "       [ 796.4038 ],\n",
       "       [ 808.3055 ],\n",
       "       [ 858.6103 ],\n",
       "       [ 827.38654],\n",
       "       [ 802.82367],\n",
       "       [ 939.78534],\n",
       "       [1060.249  ],\n",
       "       [ 946.69556],\n",
       "       [ 990.31586],\n",
       "       [ 667.62006],\n",
       "       [ 639.50684],\n",
       "       [ 698.65674],\n",
       "       [ 879.5883 ],\n",
       "       [ 908.20575],\n",
       "       [ 981.85455],\n",
       "       [ 989.57684],\n",
       "       [ 613.24164],\n",
       "       [ 863.3685 ],\n",
       "       [ 623.22845],\n",
       "       [ 959.81024],\n",
       "       [ 829.4635 ],\n",
       "       [ 896.79376],\n",
       "       [ 875.2149 ],\n",
       "       [ 632.38666],\n",
       "       [ 797.1359 ],\n",
       "       [ 709.9382 ],\n",
       "       [1195.7548 ],\n",
       "       [ 893.6368 ],\n",
       "       [ 830.7569 ],\n",
       "       [1102.0697 ],\n",
       "       [ 854.29376],\n",
       "       [ 966.52875],\n",
       "       [ 966.6692 ],\n",
       "       [ 438.5777 ],\n",
       "       [ 988.6207 ],\n",
       "       [1063.8708 ],\n",
       "       [ 881.10004],\n",
       "       [1056.44   ],\n",
       "       [ 562.3261 ],\n",
       "       [ 663.945  ],\n",
       "       [ 858.26105],\n",
       "       [ 711.976  ],\n",
       "       [ 920.925  ],\n",
       "       [ 926.6524 ],\n",
       "       [ 720.2671 ],\n",
       "       [ 884.82886],\n",
       "       [ 981.1285 ],\n",
       "       [1063.3424 ],\n",
       "       [ 691.93805],\n",
       "       [ 907.7717 ],\n",
       "       [ 856.5987 ],\n",
       "       [ 867.6197 ],\n",
       "       [1032.7991 ],\n",
       "       [ 786.26154],\n",
       "       [ 713.2976 ],\n",
       "       [ 860.6999 ],\n",
       "       [1131.7345 ],\n",
       "       [ 800.55475],\n",
       "       [ 825.     ],\n",
       "       [ 898.3742 ],\n",
       "       [ 775.70825],\n",
       "       [ 933.3635 ],\n",
       "       [ 964.35333],\n",
       "       [ 922.5585 ],\n",
       "       [ 947.3773 ],\n",
       "       [1098.9133 ],\n",
       "       [1032.4116 ],\n",
       "       [ 801.5302 ],\n",
       "       [ 756.3211 ],\n",
       "       [ 772.26654],\n",
       "       [ 736.5784 ],\n",
       "       [ 740.0651 ],\n",
       "       [ 677.161  ],\n",
       "       [1137.4849 ],\n",
       "       [ 649.6132 ],\n",
       "       [ 981.8575 ],\n",
       "       [ 707.8304 ],\n",
       "       [ 895.4537 ],\n",
       "       [ 988.6888 ],\n",
       "       [ 605.7729 ],\n",
       "       [ 741.4332 ],\n",
       "       [ 786.6163 ],\n",
       "       [ 868.5146 ],\n",
       "       [ 746.4769 ],\n",
       "       [ 557.17816],\n",
       "       [ 636.3289 ],\n",
       "       [ 732.4205 ],\n",
       "       [1055.8901 ],\n",
       "       [1112.2117 ],\n",
       "       [ 902.1343 ],\n",
       "       [ 715.068  ],\n",
       "       [ 790.4162 ],\n",
       "       [ 879.12006],\n",
       "       [ 956.5433 ],\n",
       "       [ 600.7974 ],\n",
       "       [ 851.4494 ],\n",
       "       [ 882.4631 ],\n",
       "       [ 633.1965 ],\n",
       "       [ 918.21906],\n",
       "       [ 999.1072 ],\n",
       "       [1186.8198 ],\n",
       "       [ 804.9652 ],\n",
       "       [ 740.3847 ],\n",
       "       [ 962.0959 ],\n",
       "       [ 715.9711 ],\n",
       "       [1015.2306 ],\n",
       "       [1227.8727 ],\n",
       "       [ 901.06366],\n",
       "       [ 881.7857 ],\n",
       "       [ 649.57184],\n",
       "       [ 610.36066],\n",
       "       [ 742.705  ],\n",
       "       [ 963.74164],\n",
       "       [ 699.5326 ],\n",
       "       [ 765.48224],\n",
       "       [ 815.91943],\n",
       "       [ 692.5433 ],\n",
       "       [ 922.2003 ],\n",
       "       [ 872.9638 ],\n",
       "       [ 612.34106],\n",
       "       [1063.8357 ],\n",
       "       [ 946.71655],\n",
       "       [1151.1572 ],\n",
       "       [ 786.4942 ],\n",
       "       [ 880.2986 ],\n",
       "       [ 657.65027],\n",
       "       [ 668.142  ],\n",
       "       [ 734.26855],\n",
       "       [ 682.8349 ],\n",
       "       [1081.7197 ],\n",
       "       [ 785.94366],\n",
       "       [ 857.02966],\n",
       "       [1145.7172 ],\n",
       "       [ 585.26324],\n",
       "       [ 957.8383 ],\n",
       "       [ 661.72516],\n",
       "       [ 570.0424 ],\n",
       "       [ 749.8905 ],\n",
       "       [ 596.00336],\n",
       "       [1005.7054 ],\n",
       "       [1033.939  ],\n",
       "       [ 631.97485],\n",
       "       [ 939.0794 ],\n",
       "       [ 828.497  ],\n",
       "       [1135.2542 ],\n",
       "       [ 918.70996],\n",
       "       [ 887.16516],\n",
       "       [ 978.1553 ],\n",
       "       [1037.2351 ],\n",
       "       [ 879.08386],\n",
       "       [ 852.4043 ],\n",
       "       [ 837.9476 ],\n",
       "       [ 653.48236],\n",
       "       [1350.1321 ],\n",
       "       [ 925.8216 ],\n",
       "       [ 532.6206 ],\n",
       "       [ 796.7663 ],\n",
       "       [ 991.982  ],\n",
       "       [ 856.1707 ],\n",
       "       [ 792.8936 ],\n",
       "       [ 679.4487 ],\n",
       "       [ 789.4098 ],\n",
       "       [ 973.7179 ],\n",
       "       [ 919.5474 ],\n",
       "       [ 998.9865 ],\n",
       "       [ 945.85736],\n",
       "       [ 905.6038 ],\n",
       "       [ 743.64764],\n",
       "       [1060.9402 ],\n",
       "       [1140.5867 ],\n",
       "       [1011.9805 ],\n",
       "       [1014.49896],\n",
       "       [ 996.6474 ],\n",
       "       [ 852.42834],\n",
       "       [1010.52045],\n",
       "       [ 627.0804 ],\n",
       "       [ 895.7311 ],\n",
       "       [1068.0927 ],\n",
       "       [ 782.08905],\n",
       "       [ 568.1795 ],\n",
       "       [ 607.20294],\n",
       "       [ 991.7752 ],\n",
       "       [ 878.7559 ],\n",
       "       [1071.2335 ],\n",
       "       [ 847.497  ],\n",
       "       [ 744.3422 ],\n",
       "       [ 543.3034 ],\n",
       "       [ 873.32135],\n",
       "       [ 780.5347 ],\n",
       "       [ 851.517  ],\n",
       "       [ 888.5529 ],\n",
       "       [ 910.85944],\n",
       "       [ 617.9563 ],\n",
       "       [1021.4051 ],\n",
       "       [ 629.00055],\n",
       "       [ 885.02386],\n",
       "       [ 797.3715 ],\n",
       "       [ 917.1383 ],\n",
       "       [ 967.60034],\n",
       "       [ 788.13293],\n",
       "       [ 879.0464 ],\n",
       "       [1159.1638 ],\n",
       "       [1009.58746],\n",
       "       [ 849.2091 ],\n",
       "       [1084.0708 ],\n",
       "       [ 997.7658 ],\n",
       "       [ 584.4904 ],\n",
       "       [ 545.48883],\n",
       "       [ 975.1791 ],\n",
       "       [1047.5232 ],\n",
       "       [ 948.93085],\n",
       "       [ 904.86273],\n",
       "       [ 402.12704],\n",
       "       [1018.95197],\n",
       "       [ 917.3377 ],\n",
       "       [ 820.21655],\n",
       "       [ 935.5561 ],\n",
       "       [ 928.44293],\n",
       "       [ 987.9365 ],\n",
       "       [ 973.83655],\n",
       "       [ 964.31866],\n",
       "       [ 615.7492 ],\n",
       "       [ 970.8471 ],\n",
       "       [ 978.69366],\n",
       "       [ 882.3879 ],\n",
       "       [ 856.0798 ],\n",
       "       [ 733.4374 ],\n",
       "       [ 948.2568 ],\n",
       "       [ 889.43195],\n",
       "       [ 807.2063 ],\n",
       "       [ 970.4029 ],\n",
       "       [ 833.9476 ],\n",
       "       [1014.0568 ],\n",
       "       [ 606.51764],\n",
       "       [ 572.8448 ],\n",
       "       [ 721.77405],\n",
       "       [ 805.8529 ],\n",
       "       [ 887.7249 ],\n",
       "       [1223.2607 ],\n",
       "       [ 609.0312 ],\n",
       "       [1040.1903 ],\n",
       "       [ 665.0267 ],\n",
       "       [1128.692  ],\n",
       "       [ 800.7549 ],\n",
       "       [1213.9751 ],\n",
       "       [ 787.4926 ],\n",
       "       [ 643.65936],\n",
       "       [ 893.61334],\n",
       "       [ 923.53986],\n",
       "       [ 844.76196],\n",
       "       [ 668.6949 ],\n",
       "       [ 990.4113 ],\n",
       "       [1091.8268 ],\n",
       "       [ 774.44525],\n",
       "       [ 897.68536],\n",
       "       [1058.4379 ],\n",
       "       [ 979.2558 ],\n",
       "       [ 710.5183 ],\n",
       "       [ 606.4974 ],\n",
       "       [1014.19855],\n",
       "       [ 791.13574],\n",
       "       [ 766.3555 ],\n",
       "       [1168.4031 ],\n",
       "       [ 803.05475]], dtype=float32)"
      ]
     },
     "execution_count": 76,
     "metadata": {},
     "output_type": "execute_result"
    }
   ],
   "source": [
    "testTahminleri"
   ]
  },
  {
   "cell_type": "markdown",
   "id": "f7d5f6fc",
   "metadata": {},
   "source": [
    "#### Tahmin DataFrame Dönüştürme"
   ]
  },
  {
   "cell_type": "code",
   "execution_count": 77,
   "id": "b8815b1e",
   "metadata": {},
   "outputs": [],
   "source": [
    "tahminDataFrame=pd.DataFrame(y_test,columns=[\"Gercek Y\"])"
   ]
  },
  {
   "cell_type": "code",
   "execution_count": 78,
   "id": "182377cc",
   "metadata": {},
   "outputs": [
    {
     "data": {
      "text/html": [
       "<div>\n",
       "<style scoped>\n",
       "    .dataframe tbody tr th:only-of-type {\n",
       "        vertical-align: middle;\n",
       "    }\n",
       "\n",
       "    .dataframe tbody tr th {\n",
       "        vertical-align: top;\n",
       "    }\n",
       "\n",
       "    .dataframe thead th {\n",
       "        text-align: right;\n",
       "    }\n",
       "</style>\n",
       "<table border=\"1\" class=\"dataframe\">\n",
       "  <thead>\n",
       "    <tr style=\"text-align: right;\">\n",
       "      <th></th>\n",
       "      <th>Gercek Y</th>\n",
       "    </tr>\n",
       "  </thead>\n",
       "  <tbody>\n",
       "    <tr>\n",
       "      <th>0</th>\n",
       "      <td>1081.652164</td>\n",
       "    </tr>\n",
       "    <tr>\n",
       "      <th>1</th>\n",
       "      <td>622.675990</td>\n",
       "    </tr>\n",
       "    <tr>\n",
       "      <th>2</th>\n",
       "      <td>889.356810</td>\n",
       "    </tr>\n",
       "    <tr>\n",
       "      <th>3</th>\n",
       "      <td>902.826733</td>\n",
       "    </tr>\n",
       "    <tr>\n",
       "      <th>4</th>\n",
       "      <td>897.662404</td>\n",
       "    </tr>\n",
       "    <tr>\n",
       "      <th>...</th>\n",
       "      <td>...</td>\n",
       "    </tr>\n",
       "    <tr>\n",
       "      <th>325</th>\n",
       "      <td>1028.438035</td>\n",
       "    </tr>\n",
       "    <tr>\n",
       "      <th>326</th>\n",
       "      <td>789.934950</td>\n",
       "    </tr>\n",
       "    <tr>\n",
       "      <th>327</th>\n",
       "      <td>758.490486</td>\n",
       "    </tr>\n",
       "    <tr>\n",
       "      <th>328</th>\n",
       "      <td>1172.871659</td>\n",
       "    </tr>\n",
       "    <tr>\n",
       "      <th>329</th>\n",
       "      <td>820.947936</td>\n",
       "    </tr>\n",
       "  </tbody>\n",
       "</table>\n",
       "<p>330 rows × 1 columns</p>\n",
       "</div>"
      ],
      "text/plain": [
       "        Gercek Y\n",
       "0    1081.652164\n",
       "1     622.675990\n",
       "2     889.356810\n",
       "3     902.826733\n",
       "4     897.662404\n",
       "..           ...\n",
       "325  1028.438035\n",
       "326   789.934950\n",
       "327   758.490486\n",
       "328  1172.871659\n",
       "329   820.947936\n",
       "\n",
       "[330 rows x 1 columns]"
      ]
     },
     "execution_count": 78,
     "metadata": {},
     "output_type": "execute_result"
    }
   ],
   "source": [
    "tahminDataFrame"
   ]
  },
  {
   "cell_type": "markdown",
   "id": "e7b0d813",
   "metadata": {},
   "source": [
    "#### Test Verilerimizi Series Çevirilmesi"
   ]
  },
  {
   "cell_type": "code",
   "execution_count": 82,
   "id": "ed426fb6",
   "metadata": {},
   "outputs": [],
   "source": [
    "testTahminleri=pd.Series(testTahminleri.reshape(330,))"
   ]
  },
  {
   "cell_type": "code",
   "execution_count": 83,
   "id": "8daf9610",
   "metadata": {},
   "outputs": [
    {
     "data": {
      "text/plain": [
       "0      1078.484497\n",
       "1       624.052795\n",
       "2       876.603699\n",
       "3       894.633179\n",
       "4       899.882324\n",
       "          ...     \n",
       "325    1014.198547\n",
       "326     791.135742\n",
       "327     766.355530\n",
       "328    1168.403076\n",
       "329     803.054749\n",
       "Length: 330, dtype: float32"
      ]
     },
     "execution_count": 83,
     "metadata": {},
     "output_type": "execute_result"
    }
   ],
   "source": [
    "testTahminleri"
   ]
  },
  {
   "cell_type": "markdown",
   "id": "28beebc1",
   "metadata": {},
   "source": [
    "#### Tahmin ve Gerçek verileri Birleştirme"
   ]
  },
  {
   "cell_type": "code",
   "execution_count": 84,
   "id": "68153290",
   "metadata": {},
   "outputs": [],
   "source": [
    "tahminDataFrame=pd.concat([tahminDataFrame,testTahminleri],axis=1)"
   ]
  },
  {
   "cell_type": "code",
   "execution_count": 85,
   "id": "9a21d1a4",
   "metadata": {},
   "outputs": [
    {
     "data": {
      "text/html": [
       "<div>\n",
       "<style scoped>\n",
       "    .dataframe tbody tr th:only-of-type {\n",
       "        vertical-align: middle;\n",
       "    }\n",
       "\n",
       "    .dataframe tbody tr th {\n",
       "        vertical-align: top;\n",
       "    }\n",
       "\n",
       "    .dataframe thead th {\n",
       "        text-align: right;\n",
       "    }\n",
       "</style>\n",
       "<table border=\"1\" class=\"dataframe\">\n",
       "  <thead>\n",
       "    <tr style=\"text-align: right;\">\n",
       "      <th></th>\n",
       "      <th>Gercek Y</th>\n",
       "      <th>0</th>\n",
       "    </tr>\n",
       "  </thead>\n",
       "  <tbody>\n",
       "    <tr>\n",
       "      <th>0</th>\n",
       "      <td>1081.652164</td>\n",
       "      <td>1078.484497</td>\n",
       "    </tr>\n",
       "    <tr>\n",
       "      <th>1</th>\n",
       "      <td>622.675990</td>\n",
       "      <td>624.052795</td>\n",
       "    </tr>\n",
       "    <tr>\n",
       "      <th>2</th>\n",
       "      <td>889.356810</td>\n",
       "      <td>876.603699</td>\n",
       "    </tr>\n",
       "    <tr>\n",
       "      <th>3</th>\n",
       "      <td>902.826733</td>\n",
       "      <td>894.633179</td>\n",
       "    </tr>\n",
       "    <tr>\n",
       "      <th>4</th>\n",
       "      <td>897.662404</td>\n",
       "      <td>899.882324</td>\n",
       "    </tr>\n",
       "    <tr>\n",
       "      <th>...</th>\n",
       "      <td>...</td>\n",
       "      <td>...</td>\n",
       "    </tr>\n",
       "    <tr>\n",
       "      <th>325</th>\n",
       "      <td>1028.438035</td>\n",
       "      <td>1014.198547</td>\n",
       "    </tr>\n",
       "    <tr>\n",
       "      <th>326</th>\n",
       "      <td>789.934950</td>\n",
       "      <td>791.135742</td>\n",
       "    </tr>\n",
       "    <tr>\n",
       "      <th>327</th>\n",
       "      <td>758.490486</td>\n",
       "      <td>766.355530</td>\n",
       "    </tr>\n",
       "    <tr>\n",
       "      <th>328</th>\n",
       "      <td>1172.871659</td>\n",
       "      <td>1168.403076</td>\n",
       "    </tr>\n",
       "    <tr>\n",
       "      <th>329</th>\n",
       "      <td>820.947936</td>\n",
       "      <td>803.054749</td>\n",
       "    </tr>\n",
       "  </tbody>\n",
       "</table>\n",
       "<p>330 rows × 2 columns</p>\n",
       "</div>"
      ],
      "text/plain": [
       "        Gercek Y            0\n",
       "0    1081.652164  1078.484497\n",
       "1     622.675990   624.052795\n",
       "2     889.356810   876.603699\n",
       "3     902.826733   894.633179\n",
       "4     897.662404   899.882324\n",
       "..           ...          ...\n",
       "325  1028.438035  1014.198547\n",
       "326   789.934950   791.135742\n",
       "327   758.490486   766.355530\n",
       "328  1172.871659  1168.403076\n",
       "329   820.947936   803.054749\n",
       "\n",
       "[330 rows x 2 columns]"
      ]
     },
     "execution_count": 85,
     "metadata": {},
     "output_type": "execute_result"
    }
   ],
   "source": [
    "tahminDataFrame"
   ]
  },
  {
   "cell_type": "code",
   "execution_count": 86,
   "id": "1e02ce87",
   "metadata": {},
   "outputs": [],
   "source": [
    "tahminDataFrame.columns=[\"Gerçek Y\",\"Tahmin Y\"]"
   ]
  },
  {
   "cell_type": "code",
   "execution_count": 87,
   "id": "e6153cd9",
   "metadata": {},
   "outputs": [
    {
     "data": {
      "text/html": [
       "<div>\n",
       "<style scoped>\n",
       "    .dataframe tbody tr th:only-of-type {\n",
       "        vertical-align: middle;\n",
       "    }\n",
       "\n",
       "    .dataframe tbody tr th {\n",
       "        vertical-align: top;\n",
       "    }\n",
       "\n",
       "    .dataframe thead th {\n",
       "        text-align: right;\n",
       "    }\n",
       "</style>\n",
       "<table border=\"1\" class=\"dataframe\">\n",
       "  <thead>\n",
       "    <tr style=\"text-align: right;\">\n",
       "      <th></th>\n",
       "      <th>Gerçek Y</th>\n",
       "      <th>Tahmin Y</th>\n",
       "    </tr>\n",
       "  </thead>\n",
       "  <tbody>\n",
       "    <tr>\n",
       "      <th>0</th>\n",
       "      <td>1081.652164</td>\n",
       "      <td>1078.484497</td>\n",
       "    </tr>\n",
       "    <tr>\n",
       "      <th>1</th>\n",
       "      <td>622.675990</td>\n",
       "      <td>624.052795</td>\n",
       "    </tr>\n",
       "    <tr>\n",
       "      <th>2</th>\n",
       "      <td>889.356810</td>\n",
       "      <td>876.603699</td>\n",
       "    </tr>\n",
       "    <tr>\n",
       "      <th>3</th>\n",
       "      <td>902.826733</td>\n",
       "      <td>894.633179</td>\n",
       "    </tr>\n",
       "    <tr>\n",
       "      <th>4</th>\n",
       "      <td>897.662404</td>\n",
       "      <td>899.882324</td>\n",
       "    </tr>\n",
       "    <tr>\n",
       "      <th>...</th>\n",
       "      <td>...</td>\n",
       "      <td>...</td>\n",
       "    </tr>\n",
       "    <tr>\n",
       "      <th>325</th>\n",
       "      <td>1028.438035</td>\n",
       "      <td>1014.198547</td>\n",
       "    </tr>\n",
       "    <tr>\n",
       "      <th>326</th>\n",
       "      <td>789.934950</td>\n",
       "      <td>791.135742</td>\n",
       "    </tr>\n",
       "    <tr>\n",
       "      <th>327</th>\n",
       "      <td>758.490486</td>\n",
       "      <td>766.355530</td>\n",
       "    </tr>\n",
       "    <tr>\n",
       "      <th>328</th>\n",
       "      <td>1172.871659</td>\n",
       "      <td>1168.403076</td>\n",
       "    </tr>\n",
       "    <tr>\n",
       "      <th>329</th>\n",
       "      <td>820.947936</td>\n",
       "      <td>803.054749</td>\n",
       "    </tr>\n",
       "  </tbody>\n",
       "</table>\n",
       "<p>330 rows × 2 columns</p>\n",
       "</div>"
      ],
      "text/plain": [
       "        Gerçek Y     Tahmin Y\n",
       "0    1081.652164  1078.484497\n",
       "1     622.675990   624.052795\n",
       "2     889.356810   876.603699\n",
       "3     902.826733   894.633179\n",
       "4     897.662404   899.882324\n",
       "..           ...          ...\n",
       "325  1028.438035  1014.198547\n",
       "326   789.934950   791.135742\n",
       "327   758.490486   766.355530\n",
       "328  1172.871659  1168.403076\n",
       "329   820.947936   803.054749\n",
       "\n",
       "[330 rows x 2 columns]"
      ]
     },
     "execution_count": 87,
     "metadata": {},
     "output_type": "execute_result"
    }
   ],
   "source": [
    "tahminDataFrame"
   ]
  },
  {
   "cell_type": "markdown",
   "id": "1b52bbd3",
   "metadata": {},
   "source": [
    "####  Verileri Regresyon grafigi üzerinden gösterme"
   ]
  },
  {
   "cell_type": "code",
   "execution_count": 88,
   "id": "3a758762",
   "metadata": {},
   "outputs": [
    {
     "data": {
      "text/plain": [
       "<AxesSubplot:xlabel='Gerçek Y', ylabel='Tahmin Y'>"
      ]
     },
     "execution_count": 88,
     "metadata": {},
     "output_type": "execute_result"
    },
    {
     "data": {
      "image/png": "[encoded data removed]",
      "text/plain": [
       "<Figure size 640x480 with 1 Axes>"
      ]
     },
     "metadata": {},
     "output_type": "display_data"
    }
   ],
   "source": [
    "sbn.scatterplot(x=\"Gerçek Y\",y=\"Tahmin Y\",data=tahminDataFrame)"
   ]
  },
  {
   "cell_type": "markdown",
   "id": "245e4f40",
   "metadata": {},
   "source": [
    "#### Verinin Hata Oranını Bulma"
   ]
  },
  {
   "cell_type": "code",
   "execution_count": 89,
   "id": "0dc606fa",
   "metadata": {},
   "outputs": [],
   "source": [
    "from sklearn.metrics import mean_absolute_error,mean_squared_error"
   ]
  },
  {
   "cell_type": "code",
   "execution_count": 90,
   "id": "3a509993",
   "metadata": {},
   "outputs": [
    {
     "data": {
      "text/plain": [
       "6.937070672196967"
      ]
     },
     "execution_count": 90,
     "metadata": {},
     "output_type": "execute_result"
    }
   ],
   "source": [
    "mean_absolute_error(tahminDataFrame[\"Gerçek Y\"],tahminDataFrame[\"Tahmin Y\"])"
   ]
  },
  {
   "cell_type": "code",
   "execution_count": 91,
   "id": "50ce5bed",
   "metadata": {},
   "outputs": [
    {
     "data": {
      "text/plain": [
       "75.04540333494191"
      ]
     },
     "execution_count": 91,
     "metadata": {},
     "output_type": "execute_result"
    }
   ],
   "source": [
    "mean_squared_error(tahminDataFrame[\"Gerçek Y\"],tahminDataFrame[\"Tahmin Y\"])"
   ]
  },
  {
   "cell_type": "code",
   "execution_count": 92,
   "id": "7c53509e",
   "metadata": {},
   "outputs": [
    {
     "data": {
      "text/html": [
       "<div>\n",
       "<style scoped>\n",
       "    .dataframe tbody tr th:only-of-type {\n",
       "        vertical-align: middle;\n",
       "    }\n",
       "\n",
       "    .dataframe tbody tr th {\n",
       "        vertical-align: top;\n",
       "    }\n",
       "\n",
       "    .dataframe thead th {\n",
       "        text-align: right;\n",
       "    }\n",
       "</style>\n",
       "<table border=\"1\" class=\"dataframe\">\n",
       "  <thead>\n",
       "    <tr style=\"text-align: right;\">\n",
       "      <th></th>\n",
       "      <th>Fiyat</th>\n",
       "      <th>BisikletOzellik1</th>\n",
       "      <th>BisikletOzellik2</th>\n",
       "    </tr>\n",
       "  </thead>\n",
       "  <tbody>\n",
       "    <tr>\n",
       "      <th>count</th>\n",
       "      <td>1000.000000</td>\n",
       "      <td>1000.000000</td>\n",
       "      <td>1000.000000</td>\n",
       "    </tr>\n",
       "    <tr>\n",
       "      <th>mean</th>\n",
       "      <td>872.677801</td>\n",
       "      <td>1750.024800</td>\n",
       "      <td>1749.964733</td>\n",
       "    </tr>\n",
       "    <tr>\n",
       "      <th>std</th>\n",
       "      <td>164.124504</td>\n",
       "      <td>1.704531</td>\n",
       "      <td>1.659578</td>\n",
       "    </tr>\n",
       "    <tr>\n",
       "      <th>min</th>\n",
       "      <td>390.856887</td>\n",
       "      <td>1744.852108</td>\n",
       "      <td>1744.742389</td>\n",
       "    </tr>\n",
       "    <tr>\n",
       "      <th>25%</th>\n",
       "      <td>757.795031</td>\n",
       "      <td>1748.831119</td>\n",
       "      <td>1748.803186</td>\n",
       "    </tr>\n",
       "    <tr>\n",
       "      <th>50%</th>\n",
       "      <td>879.168705</td>\n",
       "      <td>1750.017350</td>\n",
       "      <td>1750.003926</td>\n",
       "    </tr>\n",
       "    <tr>\n",
       "      <th>75%</th>\n",
       "      <td>988.612778</td>\n",
       "      <td>1751.115766</td>\n",
       "      <td>1751.129414</td>\n",
       "    </tr>\n",
       "    <tr>\n",
       "      <th>max</th>\n",
       "      <td>1355.213745</td>\n",
       "      <td>1755.613884</td>\n",
       "      <td>1754.666038</td>\n",
       "    </tr>\n",
       "  </tbody>\n",
       "</table>\n",
       "</div>"
      ],
      "text/plain": [
       "             Fiyat  BisikletOzellik1  BisikletOzellik2\n",
       "count  1000.000000       1000.000000       1000.000000\n",
       "mean    872.677801       1750.024800       1749.964733\n",
       "std     164.124504          1.704531          1.659578\n",
       "min     390.856887       1744.852108       1744.742389\n",
       "25%     757.795031       1748.831119       1748.803186\n",
       "50%     879.168705       1750.017350       1750.003926\n",
       "75%     988.612778       1751.115766       1751.129414\n",
       "max    1355.213745       1755.613884       1754.666038"
      ]
     },
     "execution_count": 92,
     "metadata": {},
     "output_type": "execute_result"
    }
   ],
   "source": [
    "dataFramenew.describe()"
   ]
  },
  {
   "cell_type": "code",
   "execution_count": 93,
   "id": "423cc5d0",
   "metadata": {},
   "outputs": [
    {
     "data": {
      "text/html": [
       "<div>\n",
       "<style scoped>\n",
       "    .dataframe tbody tr th:only-of-type {\n",
       "        vertical-align: middle;\n",
       "    }\n",
       "\n",
       "    .dataframe tbody tr th {\n",
       "        vertical-align: top;\n",
       "    }\n",
       "\n",
       "    .dataframe thead th {\n",
       "        text-align: right;\n",
       "    }\n",
       "</style>\n",
       "<table border=\"1\" class=\"dataframe\">\n",
       "  <thead>\n",
       "    <tr style=\"text-align: right;\">\n",
       "      <th></th>\n",
       "      <th>Gerçek Y</th>\n",
       "      <th>Tahmin Y</th>\n",
       "    </tr>\n",
       "  </thead>\n",
       "  <tbody>\n",
       "    <tr>\n",
       "      <th>count</th>\n",
       "      <td>330.000000</td>\n",
       "      <td>330.000000</td>\n",
       "    </tr>\n",
       "    <tr>\n",
       "      <th>mean</th>\n",
       "      <td>863.895735</td>\n",
       "      <td>862.627075</td>\n",
       "    </tr>\n",
       "    <tr>\n",
       "      <th>std</th>\n",
       "      <td>164.649126</td>\n",
       "      <td>164.931396</td>\n",
       "    </tr>\n",
       "    <tr>\n",
       "      <th>min</th>\n",
       "      <td>390.856887</td>\n",
       "      <td>402.127045</td>\n",
       "    </tr>\n",
       "    <tr>\n",
       "      <th>25%</th>\n",
       "      <td>745.553041</td>\n",
       "      <td>744.875900</td>\n",
       "    </tr>\n",
       "    <tr>\n",
       "      <th>50%</th>\n",
       "      <td>878.239496</td>\n",
       "      <td>878.901154</td>\n",
       "    </tr>\n",
       "    <tr>\n",
       "      <th>75%</th>\n",
       "      <td>979.817018</td>\n",
       "      <td>978.559067</td>\n",
       "    </tr>\n",
       "    <tr>\n",
       "      <th>max</th>\n",
       "      <td>1355.213745</td>\n",
       "      <td>1350.132080</td>\n",
       "    </tr>\n",
       "  </tbody>\n",
       "</table>\n",
       "</div>"
      ],
      "text/plain": [
       "          Gerçek Y     Tahmin Y\n",
       "count   330.000000   330.000000\n",
       "mean    863.895735   862.627075\n",
       "std     164.649126   164.931396\n",
       "min     390.856887   402.127045\n",
       "25%     745.553041   744.875900\n",
       "50%     878.239496   878.901154\n",
       "75%     979.817018   978.559067\n",
       "max    1355.213745  1350.132080"
      ]
     },
     "execution_count": 93,
     "metadata": {},
     "output_type": "execute_result"
    }
   ],
   "source": [
    "tahminDataFrame.describe()"
   ]
  },
  {
   "cell_type": "code",
   "execution_count": 98,
   "id": "a64f7303",
   "metadata": {},
   "outputs": [],
   "source": [
    "yeniBisikletOzellikleri=[[1753,1751]]"
   ]
  },
  {
   "cell_type": "code",
   "execution_count": 99,
   "id": "a45cf63e",
   "metadata": {},
   "outputs": [],
   "source": [
    "yeniBisikletOzellikleri=scaler.transform(yeniBisikletOzellikleri)"
   ]
  },
  {
   "cell_type": "code",
   "execution_count": 100,
   "id": "1db6c2bb",
   "metadata": {},
   "outputs": [
    {
     "data": {
      "text/plain": [
       "array([[0.75368734, 0.62095915]])"
      ]
     },
     "execution_count": 100,
     "metadata": {},
     "output_type": "execute_result"
    }
   ],
   "source": [
    "yeniBisikletOzellikleri"
   ]
  },
  {
   "cell_type": "code",
   "execution_count": 101,
   "id": "9ae02956",
   "metadata": {},
   "outputs": [
    {
     "data": {
      "text/plain": [
       "array([[1083.9155]], dtype=float32)"
      ]
     },
     "execution_count": 101,
     "metadata": {},
     "output_type": "execute_result"
    }
   ],
   "source": [
    "model.predict(yeniBisikletOzellikleri)"
   ]
  },
  {
   "cell_type": "markdown",
   "id": "d7d8a715",
   "metadata": {},
   "source": [
    "#### Model Kaydetme"
   ]
  },
  {
   "cell_type": "code",
   "execution_count": 103,
   "id": "4cb51f7a",
   "metadata": {},
   "outputs": [],
   "source": [
    "from tensorflow.keras.models import load_model"
   ]
  },
  {
   "cell_type": "code",
   "execution_count": 104,
   "id": "29846afc",
   "metadata": {},
   "outputs": [],
   "source": [
    "model.save(\"bisiklet_modeli.h5\")"
   ]
  },
  {
   "cell_type": "code",
   "execution_count": 105,
   "id": "9f9e2d78",
   "metadata": {},
   "outputs": [],
   "source": [
    "sonradanCagirilanModel=load_model(\"bisiklet_modeli.h5\")"
   ]
  },
  {
   "cell_type": "code",
   "execution_count": 106,
   "id": "78ea4976",
   "metadata": {},
   "outputs": [
    {
     "data": {
      "text/plain": [
       "array([[1083.9155]], dtype=float32)"
      ]
     },
     "execution_count": 106,
     "metadata": {},
     "output_type": "execute_result"
    }
   ],
   "source": [
    "sonradanCagirilanModel.predict(yeniBisikletOzellikleri)"
   ]
  },
  {
   "cell_type": "code",
   "execution_count": null,
   "id": "b8a1ff13",
   "metadata": {},
   "outputs": [],
   "source": []
  }
 ],
 "metadata": {
  "kernelspec": {
   "display_name": "Python 3 (ipykernel)",
   "language": "python",
   "name": "python3"
  },
  "language_info": {
   "codemirror_mode": {
    "name": "ipython",
    "version": 3
   },
   "file_extension": ".py",
   "mimetype": "text/x-python",
   "name": "python",
   "nbconvert_exporter": "python",
   "pygments_lexer": "ipython3",
   "version": "3.9.12"
  }
 },
 "nbformat": 4,
 "nbformat_minor": 5
}
